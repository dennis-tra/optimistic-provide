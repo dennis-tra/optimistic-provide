{
 "cells": [
  {
   "cell_type": "code",
   "execution_count": 1,
   "outputs": [],
   "source": [
    "import numpy as np\n",
    "import matplotlib.pyplot as plt\n",
    "import pandas as pd\n",
    "import seaborn as sns\n",
    "from scipy.stats import beta, norm\n",
    "\n",
    "plt.rcParams.update({\"text.usetex\": True, 'font.size': 18, 'font.family': 'serif'})\n",
    "\n"
   ],
   "metadata": {
    "collapsed": false,
    "pycharm": {
     "name": "#%%\n"
    }
   }
  },
  {
   "cell_type": "code",
   "execution_count": 23,
   "outputs": [],
   "source": [
    "def cdf(series: pd.Series) -> pd.DataFrame:\n",
    "    \"\"\" calculates the cumulative distribution function of the given series\"\"\"\n",
    "    return pd.DataFrame.from_dict({\n",
    "        series.name: np.append(series.sort_values(), series.max()),\n",
    "        \"cdf\": np.linspace(0, 1, len(series) + 1)\n",
    "    })\n"
   ],
   "metadata": {
    "collapsed": false,
    "pycharm": {
     "name": "#%%\n"
    }
   }
  },
  {
   "cell_type": "code",
   "execution_count": 14,
   "metadata": {
    "collapsed": true,
    "pycharm": {
     "name": "#%%\n"
    }
   },
   "outputs": [],
   "source": [
    "ROUNDS = 10_000\n",
    "N = 17000  # Network size\n",
    "K = 20  # k-bucket size\n",
    "\n",
    "u = np.random.uniform(0, 1, (ROUNDS, N)) # Random draws\n",
    "u_sort = np.sort(u)"
   ]
  },
  {
   "cell_type": "code",
   "execution_count": 21,
   "outputs": [],
   "source": [
    "means = u_sort[:,:20].mean(axis=1)"
   ],
   "metadata": {
    "collapsed": false,
    "pycharm": {
     "name": "#%%\n"
    }
   }
  },
  {
   "cell_type": "code",
   "execution_count": 47,
   "outputs": [
    {
     "data": {
      "text/plain": "<Figure size 432x288 with 1 Axes>",
      "image/png": "[encoded data removed]"
     },
     "metadata": {
      "needs_background": "light"
     },
     "output_type": "display_data"
    }
   ],
   "source": [
    "fig, ax = plt.subplots()\n",
    "\n",
    "cdf_df = cdf(pd.Series(data=means, name=\"means\"))\n",
    "ax.step(cdf_df[\"means\"], cdf_df[\"cdf\"])\n",
    "ax.axvline((K)/(N+1), color='gray', linestyle=':')\n",
    "\n",
    "mmeans = []\n",
    "for k in range(1, K+1):\n",
    "    mmeans += [k/(N+1)]\n",
    "\n",
    "ax.axvline(np.mean(mmeans), color='gray', linestyle=':')\n",
    "\n",
    "ax.set_xlabel(\"Kademlia Key Space\"); ax.grid(); ax.set_ylabel(\"CDF\");"
   ],
   "metadata": {
    "collapsed": false,
    "pycharm": {
     "name": "#%%\n"
    }
   }
  },
  {
   "cell_type": "code",
   "execution_count": 48,
   "outputs": [
    {
     "data": {
      "text/plain": "0.0006176107287806599"
     },
     "execution_count": 48,
     "metadata": {},
     "output_type": "execute_result"
    }
   ],
   "source": [
    "np.mean(mmeans)"
   ],
   "metadata": {
    "collapsed": false,
    "pycharm": {
     "name": "#%%\n"
    }
   }
  },
  {
   "cell_type": "code",
   "execution_count": null,
   "outputs": [],
   "source": [],
   "metadata": {
    "collapsed": false,
    "pycharm": {
     "name": "#%%\n"
    }
   }
  }
 ],
 "metadata": {
  "kernelspec": {
   "display_name": "Python 3",
   "language": "python",
   "name": "python3"
  },
  "language_info": {
   "codemirror_mode": {
    "name": "ipython",
    "version": 2
   },
   "file_extension": ".py",
   "mimetype": "text/x-python",
   "name": "python",
   "nbconvert_exporter": "python",
   "pygments_lexer": "ipython2",
   "version": "2.7.6"
  }
 },
 "nbformat": 4,
 "nbformat_minor": 0
}